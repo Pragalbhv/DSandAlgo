{
 "cells": [
  {
   "cell_type": "code",
   "execution_count": 1,
   "metadata": {},
   "outputs": [],
   "source": [
    "def initialize(board,n):\n",
    "    for key in ['queen','row','col','nwtose','swtone']:\n",
    "        board[key]={}\n",
    "    for i in range(n):\n",
    "        board['queen'][i]=-1\n",
    "        board['row'][i]=0\n",
    "        board['col'][i]=0\n",
    "    for i in range(-(n-1),n):\n",
    "        board['nwtose'][i]=0\n",
    "    for i in range(2*n-1):\n",
    "        board['swtone'][i]=0"
   ]
  },
  {
   "cell_type": "code",
   "execution_count": 2,
   "metadata": {},
   "outputs": [],
   "source": [
    "def addqueen(i,j,board):\n",
    "    board['queen'][i]=j\n",
    "    board['row'][i]=1\n",
    "    board['col'][j]=1\n",
    "    board['nwtose'][j-i]=1\n",
    "    board['swtone'][j+i]=1"
   ]
  },
  {
   "cell_type": "code",
   "execution_count": 3,
   "metadata": {},
   "outputs": [],
   "source": [
    "def isfree(i,j,board):\n",
    "    return((board['row'][i]==0 and board['col'][j]==0 and board['nwtose'][j-i]==0 and board['swtone'][j+i]==0))"
   ]
  },
  {
   "cell_type": "code",
   "execution_count": 4,
   "metadata": {},
   "outputs": [],
   "source": [
    "def undoqueen(i,j,board):\n",
    "    board['queen'][i]=-1\n",
    "    board['row'][i]=0\n",
    "    board['col'][j]=0\n",
    "    board['nwtose'][j-i]=0\n",
    "    board['swtone'][j+i]=0"
   ]
  },
  {
   "cell_type": "code",
   "execution_count": 5,
   "metadata": {},
   "outputs": [],
   "source": [
    "def placequeens(i,board):\n",
    "    n=len(board['queen'].keys())\n",
    "    for j in range(n):\n",
    "        if isfree(i,j,board):\n",
    "            addqueen(i,j,board)\n",
    "            if i==n-1:\n",
    "                return(True)\n",
    "            else:\n",
    "                extendsol=placequeens(i+1,board)\n",
    "                if extendsol:\n",
    "                    return(True)\n",
    "                else:\n",
    "                    undoqueen(i,j,board)\n",
    "    else:\n",
    "        return(False)"
   ]
  },
  {
   "cell_type": "code",
   "execution_count": 6,
   "metadata": {},
   "outputs": [],
   "source": [
    "def printboard(board):\n",
    "    for row in sorted(board['queen'].keys()):\n",
    "        print((row,board['queen'][row]))"
   ]
  },
  {
   "cell_type": "code",
   "execution_count": 7,
   "metadata": {},
   "outputs": [],
   "source": [
    "def printbeauty(board):\n",
    "    import numpy as np\n",
    "    N=len(board['queen'].keys())\n",
    "    A=[[0 for i in range(N)]for i in range(N)]\n",
    "    for row in sorted(board['queen'].keys()):\n",
    "        A[row][board['queen'][row]]=1;\n",
    "    print(np.matrix(A))"
   ]
  },
  {
   "cell_type": "code",
   "execution_count": 8,
   "metadata": {},
   "outputs": [],
   "source": [
    "def nQueens():\n",
    "    n=int(input(\"enter no of Queens\"))\n",
    "    board={}\n",
    "    initialize(board,n)\n",
    "    if placequeens(0,board):\n",
    "        printboard(board)\n",
    "        printbeauty(board)\n",
    "    else:\n",
    "        print('Not Possible')\n",
    "    "
   ]
  },
  {
   "cell_type": "code",
   "execution_count": 17,
   "metadata": {},
   "outputs": [
    {
     "name": "stdout",
     "output_type": "stream",
     "text": [
      "enter no of Queens4\n",
      "(0, 1)\n",
      "(1, 3)\n",
      "(2, 0)\n",
      "(3, 2)\n",
      "[[0 1 0 0]\n",
      " [0 0 0 1]\n",
      " [1 0 0 0]\n",
      " [0 0 1 0]]\n"
     ]
    }
   ],
   "source": [
    "nQueens()\n"
   ]
  }
 ],
 "metadata": {
  "kernelspec": {
   "display_name": "Python 3",
   "language": "python",
   "name": "python3"
  },
  "language_info": {
   "codemirror_mode": {
    "name": "ipython",
    "version": 3
   },
   "file_extension": ".py",
   "mimetype": "text/x-python",
   "name": "python",
   "nbconvert_exporter": "python",
   "pygments_lexer": "ipython3",
   "version": "3.8.3"
  }
 },
 "nbformat": 4,
 "nbformat_minor": 4
}
