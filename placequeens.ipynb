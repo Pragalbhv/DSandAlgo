{
 "cells": [
  {
   "cell_type": "code",
   "execution_count": 3,
   "metadata": {},
   "outputs": [],
   "source": [
    "def placequeen(i,board):\n",
    "    n=len(board)\n",
    "    for j in n:\n",
    "        if isfree(i,j,board):\n",
    "            addqueen(i,j,board)\n",
    "            if i==n-1:\n",
    "                return(true)\n",
    "            else:\n",
    "                extendsol=placequeen(i+1,board)\n",
    "            if extedsol:\n",
    "                return(True)\n",
    "            else:\n",
    "                undoqueen(i,j,bioard)\n",
    "        else:\n",
    "            rteurn(False)"
   ]
  }
 ],
 "metadata": {
  "kernelspec": {
   "display_name": "Python 3",
   "language": "python",
   "name": "python3"
  },
  "language_info": {
   "codemirror_mode": {
    "name": "ipython",
    "version": 3
   },
   "file_extension": ".py",
   "mimetype": "text/x-python",
   "name": "python",
   "nbconvert_exporter": "python",
   "pygments_lexer": "ipython3",
   "version": "3.8.3"
  }
 },
 "nbformat": 4,
 "nbformat_minor": 4
}
