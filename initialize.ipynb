{
 "cells": [
  {
   "cell_type": "code",
   "execution_count": 2,
   "metadata": {},
   "outputs": [],
   "source": [
    "def initialise(board,n):\n",
    "    for key in ['queen','row','col','nwtose','swtone']:\n",
    "        board[key]={}\n",
    "    for i in range(n):\n",
    "        board['queen'][i]=-1\n",
    "        board['row'][i]=0\n",
    "        board['col'][i]=0\n",
    "    for i in range(-(n-1),n):\n",
    "        board['nwtose'][i]=0\n",
    "    for i in range(2*n-1):\n",
    "        board['swtone'][i]=0"
   ]
  }
 ],
 "metadata": {
  "kernelspec": {
   "display_name": "Python 3",
   "language": "python",
   "name": "python3"
  },
  "language_info": {
   "codemirror_mode": {
    "name": "ipython",
    "version": 3
   },
   "file_extension": ".py",
   "mimetype": "text/x-python",
   "name": "python",
   "nbconvert_exporter": "python",
   "pygments_lexer": "ipython3",
   "version": "3.8.3"
  }
 },
 "nbformat": 4,
 "nbformat_minor": 4
}
